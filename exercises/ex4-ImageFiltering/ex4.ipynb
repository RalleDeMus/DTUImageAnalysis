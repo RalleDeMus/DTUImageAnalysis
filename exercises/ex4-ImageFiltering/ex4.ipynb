{
 "cells": [
  {
   "cell_type": "code",
   "execution_count": 3,
   "metadata": {},
   "outputs": [
    {
     "name": "stdout",
     "output_type": "stream",
     "text": [
      "[[ 0  1  2  3  4]\n",
      " [ 5  6  7  8  9]\n",
      " [10 11 12 13 14]\n",
      " [15 16 17 18 19]\n",
      " [20 21 22 23 24]]\n",
      "[[  6  11  17  23  28]\n",
      " [ 31  36  42  48  53]\n",
      " [ 61  66  72  78  83]\n",
      " [ 91  96 102 108 113]\n",
      " [116 121 127 133 138]]\n"
     ]
    }
   ],
   "source": [
    "from scipy.ndimage import correlate\n",
    "import numpy as np\n",
    "input_img = np.arange(25).reshape(5, 5)\n",
    "print(input_img)\n",
    "weights = [[0, 1, 0],\n",
    "\t\t   [1, 2, 1],\n",
    "\t\t   [0, 1, 0]]\n",
    "res_img = correlate(input_img, weights)\n",
    "print(res_img)"
   ]
  },
  {
   "cell_type": "markdown",
   "metadata": {},
   "source": [
    "## Exercise 1\n"
   ]
  },
  {
   "cell_type": "code",
   "execution_count": 4,
   "metadata": {},
   "outputs": [
    {
     "name": "stdout",
     "output_type": "stream",
     "text": [
      "108\n"
     ]
    }
   ],
   "source": [
    "#Print the value in position (3, 3) in res_img. Explain the value?\n",
    "print(res_img[3, 3])\n",
    "#what happens here, the value is 108?\n",
    "#The value is 108 because the value in position (3, 3) is calculated by the sum of the product of the input image and the weights.\n"
   ]
  },
  {
   "cell_type": "code",
   "execution_count": null,
   "metadata": {},
   "outputs": [],
   "source": []
  }
 ],
 "metadata": {
  "kernelspec": {
   "display_name": "imageanalysis",
   "language": "python",
   "name": "python3"
  },
  "language_info": {
   "codemirror_mode": {
    "name": "ipython",
    "version": 3
   },
   "file_extension": ".py",
   "mimetype": "text/x-python",
   "name": "python",
   "nbconvert_exporter": "python",
   "pygments_lexer": "ipython3",
   "version": "3.12.3"
  }
 },
 "nbformat": 4,
 "nbformat_minor": 2
}
