{
 "cells": [
  {
   "cell_type": "markdown",
   "metadata": {},
   "source": [
    "## Exercise 1"
   ]
  },
  {
   "cell_type": "code",
   "execution_count": 1,
   "metadata": {},
   "outputs": [
    {
     "name": "stdout",
     "output_type": "stream",
     "text": [
      "0.2914567944778671\n"
     ]
    }
   ],
   "source": [
    "import math\n",
    "a = 10\n",
    "b = 3\n",
    "s = math.atan2(b,a) # arctan(b/a) in radians \n",
    "print(s)\n",
    "#It returns the arc tangent of the two numbers, in radians. It is the same as math.atan(b/a) but with a sign depending on the quadrant of the angle."
   ]
  },
  {
   "cell_type": "markdown",
   "metadata": {},
   "source": [
    "## Exercise 2"
   ]
  },
  {
   "cell_type": "code",
   "execution_count": 7,
   "metadata": {},
   "outputs": [
    {
     "name": "stdout",
     "output_type": "stream",
     "text": [
      "0.01764705882352941\n",
      "0.015228426395939085\n",
      "0.015045135406218654\n",
      "0.015015015015015015\n"
     ]
    }
   ],
   "source": [
    "def camera_b_distance(f, g):\n",
    "    \"\"\"\n",
    "    camera_b_distance returns the distance (b) where the CCD should be placed\n",
    "    when the object distance (g) and the focal length (f) are given\n",
    "    :param f: Focal length\n",
    "    :param g: Object distance\n",
    "    :return: b, the distance where the CCD should be placed\n",
    "    \"\"\"\n",
    "    return (f*g)/(g-f)\n",
    "\n",
    "print(camera_b_distance(15e-3,0.1))\n",
    "print(camera_b_distance(15e-3,1))\n",
    "print(camera_b_distance(15e-3,5))\n",
    "print(camera_b_distance(15e-3,15))\n",
    "\n"
   ]
  },
  {
   "cell_type": "markdown",
   "metadata": {},
   "source": [
    "## Exercise 3"
   ]
  },
  {
   "cell_type": "code",
   "execution_count": 21,
   "metadata": {},
   "outputs": [
    {
     "name": "stdout",
     "output_type": "stream",
     "text": [
      "0.005005005005005005\n",
      "0.0018018018018018018\n",
      "pixel_size: (0.01, 0.01) mm\n",
      "180.18018018018017\n",
      "65.23848614238565\n",
      "51.28201164861056\n"
     ]
    }
   ],
   "source": [
    "\n",
    "Thomas_h = 1.8\n",
    "Thomas_d = 5\n",
    "focal_length = 5e-3\n",
    "\n",
    "#Thomas is 1.8 meters tall and standing 5 meters from a camera. The cameras focal length is 5 mm. The CCD in the camera can be seen in the figure below. It is a 1/2\" (inches) CCD chip and the image formed by the CCD is 640x480 pixels in a (x,y) coordinate system.\n",
    "#A focused image of Thomas is formed inside the camera. At which distance from the lens?\n",
    "b = camera_b_distance(focal_length, Thomas_d)\n",
    "print(b)\n",
    "#How tall (in mm) will Thomas be on the CCD-chip?\n",
    "Thomas_h_ccd = (b*Thomas_h)/Thomas_d\n",
    "print(Thomas_h_ccd)\n",
    "#What is the size of a single pixel on the CCD chip? (in mm)?\n",
    "pixel_size = (6.4/640, 4.8/480)\n",
    "print(f\"pixel_size: {pixel_size} mm\")\n",
    "#How tall (in pixels) will Thomas be on the CCD-chip?\n",
    "Thomas_h_ccd_pixels = Thomas_h_ccd/0.01*1000\n",
    "print(Thomas_h_ccd_pixels)\n",
    "#What is the horizontal field-of-view (in degrees)?\n",
    "print(math.atan2(3.2e-3,focal_length)*2*180/math.pi)\n",
    "#What is the vertical field-of-view (in degrees)?\n",
    "print(math.atan2(2.4e-3,focal_length)*2*180/math.pi)"
   ]
  },
  {
   "cell_type": "code",
   "execution_count": null,
   "metadata": {},
   "outputs": [],
   "source": []
  }
 ],
 "metadata": {
  "kernelspec": {
   "display_name": "imageanalysis",
   "language": "python",
   "name": "python3"
  },
  "language_info": {
   "codemirror_mode": {
    "name": "ipython",
    "version": 3
   },
   "file_extension": ".py",
   "mimetype": "text/x-python",
   "name": "python",
   "nbconvert_exporter": "python",
   "pygments_lexer": "ipython3",
   "version": "3.12.3"
  }
 },
 "nbformat": 4,
 "nbformat_minor": 2
}
